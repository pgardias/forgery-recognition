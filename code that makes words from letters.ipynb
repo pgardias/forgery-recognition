{
 "cells": [
  {
   "cell_type": "code",
   "execution_count": 15,
   "metadata": {},
   "outputs": [
    {
     "data": {
      "text/plain": [
       "['balanced', 'byclass', 'bymerge', 'digits', 'letters', 'mnist']"
      ]
     },
     "execution_count": 15,
     "metadata": {},
     "output_type": "execute_result"
    }
   ],
   "source": [
    "## load emnist\n",
    "import numpy as np\n",
    "import pandas as pd\n",
    "import matplotlib.pyplot as plt\n",
    "import random\n",
    "\n",
    "from emnist import list_datasets\n",
    "list_datasets()"
   ]
  },
  {
   "cell_type": "code",
   "execution_count": 35,
   "metadata": {},
   "outputs": [
    {
     "name": "stdout",
     "output_type": "stream",
     "text": [
      "(124800, 28, 28)\n",
      "(124800,)\n"
     ]
    }
   ],
   "source": [
    "#load training samples for letters subset\n",
    "\n",
    "from emnist import extract_training_samples\n",
    "train_images, train_labels = extract_training_samples('letters')\n",
    "print(train_images.shape)\n",
    "print(train_labels.shape)"
   ]
  },
  {
   "cell_type": "code",
   "execution_count": 36,
   "metadata": {},
   "outputs": [
    {
     "data": {
      "text/plain": [
       "numpy.ndarray"
      ]
     },
     "execution_count": 36,
     "metadata": {},
     "output_type": "execute_result"
    }
   ],
   "source": [
    "type(train_images)"
   ]
  },
  {
   "cell_type": "code",
   "execution_count": 37,
   "metadata": {},
   "outputs": [],
   "source": [
    "# takes array of labels, array of flat or non-flat images, returns subset of images for specified label \n",
    "# shows an image from the new array that is returned\n",
    "def filtered_images(labels_array, images_array, letter):\n",
    "    if (letter == 'A' or letter =='a'):\n",
    "        number = 1\n",
    "    if (letter == 'B' or letter =='b'):\n",
    "        number = 2\n",
    "    if (letter == 'C' or letter == 'c'):\n",
    "        number = 3\n",
    "    if (letter =='D' or letter == 'd'):\n",
    "        number = 4\n",
    "    if (letter == 'E' or letter == 'e'):\n",
    "        number = 5\n",
    "    if (letter == 'F' or letter == 'f'):\n",
    "        number = 6\n",
    "    if (letter == 'G' or letter == 'g'):\n",
    "        number = 7\n",
    "    if (letter == 'H' or letter == 'h'):\n",
    "        number = 8\n",
    "    if (letter == 'I' or letter == 'i'):\n",
    "        number = 9\n",
    "    if (letter == 'J' or letter == 'j'):\n",
    "        number = 10\n",
    "    if (letter == 'K' or letter == 'k'):\n",
    "        number = 11\n",
    "    if (letter == 'L' or letter == 'l'):\n",
    "        number = 12\n",
    "    if (letter == 'M' or letter == 'm'):\n",
    "        number = 13\n",
    "    if (letter == 'N' or letter == 'n'):\n",
    "        number = 14\n",
    "    if (letter == 'O' or letter == 'o'):\n",
    "        number = 15\n",
    "    if (letter == 'P' or letter == 'p'):\n",
    "        number = 16\n",
    "    if (letter == 'Q' or letter == 'q'):\n",
    "        number = 17\n",
    "    if (letter == 'R' or letter == 'r'):\n",
    "        number = 18\n",
    "    if (letter == 'S' or letter == 's'):\n",
    "        number = 19\n",
    "    if (letter == 'T' or letter == 't'):\n",
    "        number = 20\n",
    "    if (letter == 'U' or letter == 'u'):\n",
    "        number = 21\n",
    "    if (letter == 'V' or letter == 'v'):\n",
    "        number = 22\n",
    "    if (letter == 'W' or letter == 'w'):\n",
    "        number = 23\n",
    "    if (letter == 'X' or letter == 'x'):\n",
    "        number = 24\n",
    "    if (letter == 'Y' or letter == 'y'):\n",
    "        number = 25\n",
    "    if (letter == 'Z' or letter == 'z'):\n",
    "        number = 26\n",
    "        \n",
    "    label_filter = np.where(labels_array == number)\n",
    "    labelled_images = images_array[label_filter] \n",
    "    \n",
    "    return labelled_images"
   ]
  },
  {
   "cell_type": "code",
   "execution_count": 19,
   "metadata": {},
   "outputs": [],
   "source": [
    "a_list = filtered_images(train_labels, train_images, 'A')\n",
    "train_images = a_list"
   ]
  },
  {
   "cell_type": "code",
   "execution_count": 20,
   "metadata": {},
   "outputs": [
    {
     "data": {
      "image/png": "[encoded data removed]",
      "text/plain": [
       "<Figure size 432x288 with 1 Axes>"
      ]
     },
     "metadata": {
      "needs_background": "light"
     },
     "output_type": "display_data"
    }
   ],
   "source": [
    "plt.imshow(a_list[1].reshape((28, 28)), cmap = 'Greys')\n",
    "plt.show()"
   ]
  },
  {
   "cell_type": "code",
   "execution_count": 21,
   "metadata": {},
   "outputs": [
    {
     "data": {
      "image/png": "[encoded data removed]",
      "text/plain": [
       "<Figure size 432x288 with 1 Axes>"
      ]
     },
     "metadata": {
      "needs_background": "light"
     },
     "output_type": "display_data"
    }
   ],
   "source": [
    "aa = np.hstack((a_list[0].reshape((28, 28)), a_list[1].reshape((28, 28))))\n",
    "plt.imshow(aa, cmap = 'Greys')\n",
    "plt.imsave('test2.png', aa, cmap='Greys')"
   ]
  },
  {
   "cell_type": "code",
   "execution_count": 22,
   "metadata": {},
   "outputs": [
    {
     "data": {
      "image/png": "[encoded data removed]",
      "text/plain": [
       "<Figure size 432x288 with 1 Axes>"
      ]
     },
     "metadata": {
      "needs_background": "light"
     },
     "output_type": "display_data"
    }
   ],
   "source": [
    "plt.imshow(train_images[8].reshape((28, 28)), cmap = 'Greys')\n",
    "plt.show()"
   ]
  },
  {
   "cell_type": "code",
   "execution_count": null,
   "metadata": {},
   "outputs": [],
   "source": [
    "#load testing samples for letters subset\n",
    "from emnist import extract_test_samples\n",
    "test_images, test_labels = extract_test_samples('letters')\n",
    "print(test_images.shape)\n",
    "print(test_labels.shape)"
   ]
  },
  {
   "cell_type": "code",
   "execution_count": 59,
   "metadata": {},
   "outputs": [],
   "source": [
    "def make_word(word, labels_array, images_array):\n",
    "    \n",
    "    first_letter = True\n",
    "    \n",
    "    for letter in word:\n",
    "        \n",
    "        if first_letter:\n",
    "            letter_set  = filtered_images(labels_array, images_array, str(letter))\n",
    "            num_letters = letter_set.shape[0]\n",
    "            this_letter = random.randint(0, num_letters)\n",
    "            plt.imshow(letter_set[this_letter].reshape((28, 28)), cmap = 'Greys')\n",
    "       \n",
    "            word_array = letter_set[this_letter].reshape((28, 28))\n",
    "            first_letter = False\n",
    "            \n",
    "        else:\n",
    "            letter_set  = filtered_images(labels_array, images_array, str(letter))\n",
    "            num_letters = letter_set.shape[0]\n",
    "            this_letter = random.randint(0, num_letters)\n",
    "            plt.imshow(letter_set[this_letter].reshape((28, 28)), cmap = 'Greys')\n",
    "            word_array = np.hstack((word_array, letter_set[this_letter].reshape((28, 28))))\n",
    "\n",
    "    plt.imshow(word_array, cmap = 'Greys')\n",
    "    #plt.imsave('test2.png', aa, cmap='Greys')\n",
    "    "
   ]
  },
  {
   "cell_type": "code",
   "execution_count": 60,
   "metadata": {},
   "outputs": [
    {
     "data": {
      "image/png": "[encoded data removed]",
      "text/plain": [
       "<Figure size 432x288 with 1 Axes>"
      ]
     },
     "metadata": {
      "needs_background": "light"
     },
     "output_type": "display_data"
    }
   ],
   "source": [
    "make_word('cat', train_labels, train_images)"
   ]
  },
  {
   "cell_type": "code",
   "execution_count": 13,
   "metadata": {},
   "outputs": [
    {
     "data": {
      "text/plain": [
       "'c'"
      ]
     },
     "execution_count": 13,
     "metadata": {},
     "output_type": "execute_result"
    }
   ],
   "source": [
    "string = 'cat'\n",
    "string[0]"
   ]
  },
  {
   "cell_type": "code",
   "execution_count": 14,
   "metadata": {},
   "outputs": [
    {
     "name": "stdout",
     "output_type": "stream",
     "text": [
      "c\n",
      "a\n",
      "t\n"
     ]
    }
   ],
   "source": [
    "for l in string:\n",
    "    print(l)"
   ]
  },
  {
   "cell_type": "code",
   "execution_count": null,
   "metadata": {},
   "outputs": [],
   "source": []
  }
 ],
 "metadata": {
  "kernelspec": {
   "display_name": "Python 3",
   "language": "python",
   "name": "python3"
  },
  "language_info": {
   "codemirror_mode": {
    "name": "ipython",
    "version": 3
   },
   "file_extension": ".py",
   "mimetype": "text/x-python",
   "name": "python",
   "nbconvert_exporter": "python",
   "pygments_lexer": "ipython3",
   "version": "3.7.3"
  }
 },
 "nbformat": 4,
 "nbformat_minor": 2
}
